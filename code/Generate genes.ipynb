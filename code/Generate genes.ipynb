{
 "cells": [
  {
   "cell_type": "code",
   "execution_count": 7,
   "metadata": {},
   "outputs": [],
   "source": [
    "import glob\n",
    "import pandas as pd\n",
    "from shutil import copytree\n",
    "import json\n",
    "import pickle\n",
    "import numpy as np"
   ]
  },
  {
   "cell_type": "code",
   "execution_count": 3,
   "metadata": {},
   "outputs": [],
   "source": [
    "def random_dna_sequence(length):\n",
    "    return ''.join(np.random.choice(('A', 'C', 'T', 'G')) for _ in range(length))\n",
    "\n",
    "df = pd.read_csv('./all_genes.csv')"
   ]
  },
  {
   "cell_type": "code",
   "execution_count": 4,
   "metadata": {},
   "outputs": [
    {
     "data": {
      "text/plain": [
       "['AAACACGTGGCAAACATTCCGGTCTCGAATGAGCACGATCGAGGAACGCGTGAAGAAAATCATTGGCGAACAACTGGGTGTTAAACAAGAAGAGGTGACCAACAATGCCAGCTTTGTCGAGGACCTGGGCGCCGACAGCCTGGATACGGTTGAGCTGGTTATGGCATTGGAGGAAGAATTTGACACGGAGATTCCGGATGAAGAGGCTGAGAAAATTACTACCGTACAAGCGGCGATCGACTATATTAACGGCCATCAAGCCTGAAGAGCTTGGAGACCCGACTGCCGACATGATCTAT']"
      ]
     },
     "execution_count": 4,
     "metadata": {},
     "output_type": "execute_result"
    }
   ],
   "source": [
    "df[df['gene_id'] == 'BBF10K_003208']['seq'].tolist()"
   ]
  },
  {
   "cell_type": "code",
   "execution_count": 5,
   "metadata": {},
   "outputs": [],
   "source": [
    "with open('./../examples/gene.json') as f:\n",
    "    new_json = json.load(f)\n",
    "    \n",
    "tags = ['Bacillus subtilis', 'Mycoplasma pneumonia', 'Mycoplasma genitalium', 'Mesoplasma florum']\n",
    "directories = {'Bacillus subtilis': './../collections/bacillus_essential/genes/', \n",
    "               'Mycoplasma pneumonia': './../collections/myco_pneumoniae/genes/',\n",
    "               'Mycoplasma genitalium': './../collections/myco_genitalium/genes/', \n",
    "               'Mesoplasma florum': './../collections/meso_florum/genes/'}"
   ]
  },
  {
   "cell_type": "code",
   "execution_count": 6,
   "metadata": {},
   "outputs": [],
   "source": [
    "# Copy genes from data directory into genes\n",
    "for tag in tags:\n",
    "    for directory in glob.glob('./../data/**'):\n",
    "        json_file = glob.glob('{}/*.json'.format(directory))\n",
    "        with open(json_file[0]) as f:\n",
    "            data = json.load(f)\n",
    "        if 'tags' in data:\n",
    "            if tag in data['tags']:\n",
    "                copytree(directory, '{}{}'.format(directories[tag],data['gene_id']))\n",
    "                "
   ]
  },
  {
   "cell_type": "code",
   "execution_count": 7,
   "metadata": {},
   "outputs": [],
   "source": [
    "#### RUN AFTER ADDGENE STUFF, PRIMERS NO GOOD\n",
    "\n",
    "for json_file in glob.glob('./../collections/**/genes/**/*.json'):\n",
    "    with open(json_file) as f:\n",
    "        data = json.load(f)\n",
    "    with open('./../examples/gene.json') as f:\n",
    "        new_json = json.load(f)\n",
    "    \n",
    "    new_json['gene_id'] = data['gene_id']\n",
    "    new_json['part_type'] = data['info']['gene_metadata']['cloning']['part_type']\n",
    "    new_json['tags'] = data['tags'] + ['cds','moclo']\n",
    "    new_json['original_sequence'] = data['sequence']['original_sequence']\n",
    "    new_json['optimized_sequence'] = data['sequence']['optimized_sequence']\n",
    "    new_json['status'] = 'Unapproved'\n",
    "    new_json['author'] = [{'name': 'Keoni Gandall', 'email': 'koeng101@gmail.com', 'affiliation': 'BioBricks Foundation', 'orcid':'https://orcid.org/0000-0003-3995-6416'}]\n",
    "    new_json['genbank'] = data['genbank']\n",
    "    \n",
    "    seq_list = df[df['gene_id'] == data['gene_id']]['seq'].tolist()\n",
    "    if seq_list == []:\n",
    "        new_json['status'] = 'Design_failed'\n",
    "    else:\n",
    "        seq = seq_list[0]\n",
    "        if 'Bacillus subtilis' not in data['tags']:\n",
    "            new_json['primer_for'] = seq[0:20]\n",
    "            new_json['primer_rev'] = seq[-20:]\n",
    "        else: \n",
    "            new_json['primer_for'] = ''\n",
    "            new_json['primer_rev'] = ''\n",
    "        if len(seq) < 300:\n",
    "            seq = seq + random_dna_sequence(300-len(seq))\n",
    "        new_json['synthesized_sequence'] = seq\n",
    "\n",
    "    \n",
    "    with open(json_file, 'w') as outfile:\n",
    "        json.dump(new_json, outfile)"
   ]
  },
  {
   "cell_type": "code",
   "execution_count": 8,
   "metadata": {},
   "outputs": [],
   "source": [
    "paths = ['meso_florum','myco_genitalium','myco_pneumoniae']\n",
    "\n",
    "for path in paths:\n",
    "    for json_file in glob.glob('./../collections/{}/genes/**/*.json'.format(path)):\n",
    "        with open(json_file) as f:\n",
    "            data = json.load(f)\n",
    "        \n",
    "        seq = data['synthesized_sequence']\n",
    "        \n",
    "        data['primer_for'] = seq[0:20] \n",
    "        end = seq.find('GAGACC')\n",
    "        data['primer_rev'] = seq[end+6:end+26]\n",
    "        \n",
    "        with open(json_file, 'w') as outfile:\n",
    "            json.dump(data, outfile)"
   ]
  },
  {
   "cell_type": "code",
   "execution_count": 4,
   "metadata": {},
   "outputs": [
    {
     "data": {
      "text/plain": [
       "'CCAGGAAAGTCGGCTAATCT'"
      ]
     },
     "execution_count": 4,
     "metadata": {},
     "output_type": "execute_result"
    }
   ],
   "source": []
  }
 ],
 "metadata": {
  "kernelspec": {
   "display_name": "Python 3",
   "language": "python",
   "name": "python3"
  },
  "language_info": {
   "codemirror_mode": {
    "name": "ipython",
    "version": 3
   },
   "file_extension": ".py",
   "mimetype": "text/x-python",
   "name": "python",
   "nbconvert_exporter": "python",
   "pygments_lexer": "ipython3",
   "version": "3.7.2"
  }
 },
 "nbformat": 4,
 "nbformat_minor": 2
}
