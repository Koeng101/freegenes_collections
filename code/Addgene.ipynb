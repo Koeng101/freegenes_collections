{
 "cells": [
  {
   "cell_type": "code",
   "execution_count": 1,
   "metadata": {},
   "outputs": [],
   "source": [
    "import glob\n",
    "import pandas as pd\n",
    "from shutil import copytree\n",
    "import json\n",
    "import pickle\n",
    "import numpy as np\n",
    "def random_dna_sequence(length):\n",
    "    return ''.join(np.random.choice(('A', 'C', 'T', 'G')) for _ in range(length))"
   ]
  },
  {
   "cell_type": "code",
   "execution_count": 3,
   "metadata": {},
   "outputs": [],
   "source": [
    "with open('./../examples/gene.json') as f:\n",
    "    new_json = json.load(f)\n",
    "\n",
    "for directory in glob.glob('./../data/**'):\n",
    "    json_file = glob.glob('{}/*.json'.format(directory))\n",
    "    with open(json_file[0]) as f:\n",
    "        data = json.load(f)\n",
    "    if data['author']['name'] == 'Melina Fan':\n",
    "        copytree(directory, '{}{}'.format('./../collections/addgene_20/genes/',data['gene_id']))\n",
    "\n",
    "one_prefix = 'GGTCTCTA'\n",
    "one_suffix = 'AGAGCTTAGAGACCGG'\n",
    "        \n",
    "for json_file in glob.glob('./../collections/addgene_20/genes/**/*.json'):\n",
    "    new_json['gene_id'] = data['gene_id']\n",
    "    new_json['part_type'] = data['info']['gene_metadata']['cloning']['part_type']\n",
    "    new_json['tags'] = ['cds','moclo']\n",
    "    new_json['original_sequence'] = data['sequence']['original_sequence']\n",
    "    new_json['optimized_sequence'] = data['sequence']['optimized_sequence']\n",
    "    new_json['status'] = 'Approved'\n",
    "    new_json['author'] = [{'name': 'Melina Fan', 'email': 'mfan@addgene.org', 'affiliation': 'Addgene', 'orcid':''}]\n",
    "    \n",
    "    new_json['synthesized_sequence'] = one_prefix + new_json['optimized_sequence'] + one_suffix\n",
    "    new_json['primer_for'] = ''\n",
    "    new_json['primer_rev'] = ''\n",
    "    \n",
    "    with open(json_file, 'w') as outfile:\n",
    "        json.dump(new_json, outfile)"
   ]
  },
  {
   "cell_type": "code",
   "execution_count": null,
   "metadata": {},
   "outputs": [],
   "source": []
  }
 ],
 "metadata": {
  "kernelspec": {
   "display_name": "Python 3",
   "language": "python",
   "name": "python3"
  },
  "language_info": {
   "codemirror_mode": {
    "name": "ipython",
    "version": 3
   },
   "file_extension": ".py",
   "mimetype": "text/x-python",
   "name": "python",
   "nbconvert_exporter": "python",
   "pygments_lexer": "ipython3",
   "version": "3.7.2"
  }
 },
 "nbformat": 4,
 "nbformat_minor": 2
}
