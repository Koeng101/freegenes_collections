{
 "cells": [
  {
   "cell_type": "code",
   "execution_count": 3,
   "metadata": {},
   "outputs": [],
   "source": [
    "import glob\n",
    "import pandas as pd\n",
    "from shutil import copytree\n",
    "import json\n",
    "import pickle\n",
    "import numpy as np"
   ]
  },
  {
   "cell_type": "code",
   "execution_count": 4,
   "metadata": {},
   "outputs": [],
   "source": [
    "def random_dna_sequence(length):\n",
    "    return ''.join(np.random.choice(('A', 'C', 'T', 'G')) for _ in range(length))\n"
   ]
  },
  {
   "cell_type": "code",
   "execution_count": 2,
   "metadata": {},
   "outputs": [],
   "source": [
    "with open('./../../examples/gene.json') as f:\n",
    "    new_json = json.load(f)\n"
   ]
  },
  {
   "cell_type": "code",
   "execution_count": 19,
   "metadata": {},
   "outputs": [],
   "source": [
    "# Copy E.coli essential genes from data directory into genes\n",
    "#for directory in glob.glob('./../../data/**'):\n",
    "    json_file = glob.glob('{}/*.json'.format(directory))\n",
    "    with open(json_file[0]) as f:\n",
    "        data = json.load(f)\n",
    "    if \"tags\" in data:\n",
    "        if \"Escherichia coli\" in data['tags']:\n",
    "            copytree(directory, './../genes/{}'.format(data['gene_id']))"
   ]
  },
  {
   "cell_type": "code",
   "execution_count": 34,
   "metadata": {},
   "outputs": [],
   "source": [
    "#for json_file in glob.glob('./../genes/**/*.json'):\n",
    "    with open(json_file) as f:\n",
    "        data = json.load(f)\n",
    "    with open('./../../examples/gene.json') as f:\n",
    "        new_json = json.load(f)\n",
    "    \n",
    "    new_json['gene_id'] = data['gene_id']\n",
    "    new_json['part_type'] = data['info']['gene_metadata']['cloning']['part_type']\n",
    "    new_json['tags'] = ['cds','moclo','Escherichia coli','essential']\n",
    "    new_json['original_sequence'] = data['sequence']['original_sequence']\n",
    "    new_json['status'] = 'Unapproved'\n",
    "    new_json['author'] = [{'name': 'Keoni Gandall', 'email': 'koeng101@gmail.com', 'affiliation': 'BioBricks Foundation', 'orcid':'https://orcid.org/0000-0003-3995-6416'}]\n",
    "    new_json['genbank'] = data['genbank']\n",
    "    with open('./../genes/{}/{}.json'.format(data['gene_id'],data['gene_id']), 'w') as outfile:\n",
    "        json.dump(new_json, outfile)"
   ]
  },
  {
   "cell_type": "code",
   "execution_count": 10,
   "metadata": {},
   "outputs": [
    {
     "name": "stdout",
     "output_type": "stream",
     "text": [
      "BBF10K_003225\n",
      "BBF10K_001049\n",
      "BBF10K_001113\n",
      "BBF10K_001156\n",
      "BBF10K_001228\n",
      "BBF10K_003208\n",
      "BBF10K_003189\n",
      "BBF10K_001191\n",
      "BBF10K_001092\n",
      "BBF10K_001183\n",
      "BBF10K_001147\n"
     ]
    }
   ],
   "source": [
    "red20_map = {v: k.replace('U','T') for k, v in pickle.load(open(\"RED20_dict.pickle\",\"rb\")).items()}\n",
    "red20_map['*'] = 'TGA'\n",
    "\n",
    "orthogonal_primers = pd.read_csv('orthogonal_primers.csv')[['Forward','Reverse']]\n",
    "orthogonal_primers['gene_id'] = ''\n",
    "prefix = 'GGTCTCTA'\n",
    "suffix = 'AGAGCTTCGAGACC'\n",
    "for json_file in glob.glob('./../genes/**/*.json'):\n",
    "    with open(json_file) as f:\n",
    "        data = json.load(f)\n",
    "    protein_seq = data['genbank']['translation'] + '*'\n",
    "    dna_seq = []\n",
    "    for aa in protein_seq:\n",
    "        dna_seq.append(red20_map[aa]) \n",
    "    optimized_seq = ''.join(dna_seq)\n",
    "    for index,primer_pair in orthogonal_primers.iterrows():\n",
    "        if primer_pair['gene_id'] == '':\n",
    "            data['primer_for'] = primer_pair['Forward']\n",
    "            data['primer_rev'] = primer_pair['Reverse']\n",
    "            synthetic_seq = primer_pair['Forward'] + prefix + optimized_seq + suffix + primer_pair['Reverse']\n",
    "            orthogonal_primers.at[index,'gene_id'] = data['gene_id']\n",
    "            break\n",
    "    if len(synthetic_seq) < 300:\n",
    "        print(data['gene_id'])\n",
    "        synthetic_seq = synthetic_seq + random_dna_sequence(320-len(synthetic_seq))\n",
    "    \n",
    "    \n",
    "    data['synthesized_sequence'] = synthetic_seq\n",
    "    data['optimized_sequence'] = optimized_seq\n",
    "    with open(json_file, 'w') as outfile:\n",
    "        json.dump(data, outfile)\n",
    "    \n",
    "orthogonal_primers.to_csv('./onetube_ecoli.csv')"
   ]
  },
  {
   "cell_type": "code",
   "execution_count": 42,
   "metadata": {},
   "outputs": [],
   "source": [
    "gene_ids = []\n",
    "sequences = []\n",
    "for json_file in glob.glob('./../genes/**/*.json'):\n",
    "    with open(json_file) as f:\n",
    "        data = json.load(f)\n",
    "    gene_ids.append(data['gene_id'])\n",
    "    sequences.append(data['synthesized_sequence'])\n",
    "    \n",
    "d = {\n",
    "    \"gene_id\": gene_ids,\n",
    "    \"sequence\": sequences\n",
    "}\n",
    "to_twist = pd.DataFrame.from_dict(d)\n",
    "to_twist.to_csv('./to_twist.csv')"
   ]
  },
  {
   "cell_type": "code",
   "execution_count": null,
   "metadata": {},
   "outputs": [],
   "source": []
  }
 ],
 "metadata": {
  "kernelspec": {
   "display_name": "Python 3",
   "language": "python",
   "name": "python3"
  },
  "language_info": {
   "codemirror_mode": {
    "name": "ipython",
    "version": 3
   },
   "file_extension": ".py",
   "mimetype": "text/x-python",
   "name": "python",
   "nbconvert_exporter": "python",
   "pygments_lexer": "ipython3",
   "version": "3.7.2"
  }
 },
 "nbformat": 4,
 "nbformat_minor": 2
}
