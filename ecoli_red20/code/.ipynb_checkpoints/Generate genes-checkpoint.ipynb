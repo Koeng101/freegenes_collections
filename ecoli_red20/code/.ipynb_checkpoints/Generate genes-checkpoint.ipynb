{
 "cells": [
  {
   "cell_type": "code",
   "execution_count": 17,
   "metadata": {},
   "outputs": [],
   "source": [
    "import glob\n",
    "import pandas as pd\n",
    "from shutil import copytree\n",
    "import json"
   ]
  },
  {
   "cell_type": "code",
   "execution_count": 21,
   "metadata": {},
   "outputs": [
    {
     "data": {
      "text/plain": [
       "{'gene_id': '',\n",
       " 'version': '1.0.0',\n",
       " 'part_type': '',\n",
       " 'sequence': '',\n",
       " 'tags': [],\n",
       " 'original_sequence': '',\n",
       " 'optimized_sequence': '',\n",
       " 'synthesized_sequence': '',\n",
       " 'status': '',\n",
       " 'author': [{'name': '', 'email': '', 'affiliation': '', 'orcid': ''}],\n",
       " 'genbank': ''}"
      ]
     },
     "execution_count": 21,
     "metadata": {},
     "output_type": "execute_result"
    }
   ],
   "source": [
    "with open('./../../examples/gene.json') as f:\n",
    "    new_json = json.load(f)\n",
    "new_json"
   ]
  },
  {
   "cell_type": "code",
   "execution_count": 19,
   "metadata": {},
   "outputs": [],
   "source": [
    "# Copy E.coli essential genes from data directory into genes\n",
    "for directory in glob.glob('./../../data/**'):\n",
    "    json_file = glob.glob('{}/*.json'.format(directory))\n",
    "    with open(json_file[0]) as f:\n",
    "        data = json.load(f)\n",
    "    if \"tags\" in data:\n",
    "        if \"Escherichia coli\" in data['tags']:\n",
    "            copytree(directory, './../genes/{}'.format(data['gene_id']))"
   ]
  },
  {
   "cell_type": "code",
   "execution_count": 34,
   "metadata": {},
   "outputs": [],
   "source": [
    "for json_file in glob.glob('./../genes/**/*.json'):\n",
    "    with open(json_file) as f:\n",
    "        data = json.load(f)\n",
    "    with open('./../../examples/gene.json') as f:\n",
    "        new_json = json.load(f)\n",
    "    \n",
    "    new_json['gene_id'] = data['gene_id']\n",
    "    new_json['part_type'] = data['info']['gene_metadata']['cloning']['part_type']\n",
    "    new_json['tags'] = ['cds','moclo','Escherichia coli','essential']\n",
    "    new_json['original_sequence'] = data['sequence']['original_sequence']\n",
    "    new_json['status'] = 'Unapproved'\n",
    "    new_json['author'] = [{'name': 'Keoni Gandall', 'email': 'koeng101@gmail.com', 'affiliation': 'BioBricks Foundation', 'orcid':'https://orcid.org/0000-0003-3995-6416'}]\n",
    "    new_json['genbank'] = data['genbank']\n",
    "    with open('./../genes/{}/{}.json'.format(data['gene_id'],data['gene_id']), 'w') as outfile:\n",
    "        json.dump(new_json, outfile)"
   ]
  },
  {
   "cell_type": "code",
   "execution_count": 35,
   "metadata": {},
   "outputs": [
    {
     "data": {
      "text/plain": [
       "{'gene_id': 'BBF10K_001098',\n",
       " 'version': '1.0.0',\n",
       " 'part_type': 'cds',\n",
       " 'tags': ['cds', 'moclo', 'Escherichia coli', 'essential'],\n",
       " 'original_sequence': 'ATGACAACGAACTATATTTTTGTGACCGGCGGGGTCGTATCCTCTCTGGGTAAAGGCATTGCCGCAGCCTCCCTCGCAGCCATTCTTGAAGCCCGTGGCCTCAATGTGACCATCATGAAACTGGATCCGTACATCAACGTCGATCCAGGTACTATGAGCCCAATCCAACACGGGGAAGTGTTCGTTACTGAAGACGGCGCTGAAACCGACCTGGACCTGGGGCACTACGAGCGTTTCATTCGTACCAAAATGAGCCGCCGCAACAACTTCACCACGGGTCGTATCTACTCTGACGTTCTGCGTAAAGAACGCCGCGGTGACTACCTCGGCGCAACCGTGCAGGTTATTCCGCACATCACTAACGCAATCAAAGAGCGCGTGCTGGAAGGTGGCGAAGGTCATGACGTAGTACTGGTAGAAATCGGCGGTACAGTAGGTGATATCGAATCCTTGCCGTTCCTCGAAGCGATTCGCCAGATGGCTGTTGAAATTGGCCGTGAGCACACTCTGTTTATGCACCTGACGCTGGTGCCGTACATGGCAGCGTCTGGTGAAGTCAAAACCAAACCGACTCAGCACTCTGTAAAAGAGCTGCTCTCCATCGGTATCCAGCCTGACATCCTGATTTGTCGTTCAGATCGCGCTGTTCCGGCGAACGAACGTGCGAAGATTGCATTGTTCTGTAATGTTCCGGAAAAAGCGGTTATTTCTCTGAAAGACGTCGATTCCATCTATAAAATTCCGGGCCTGTTGAAATCTCAGGGGCTGGACGATTATATTTGTAAACGATTCAGCTTAAACTGCCCGGAAGCGAATCTGTCCGAATGGGAACAGGTTATCTTCGAAGAAGCGAACCCGGTAAGTGAAGTCACCATCGGTATGGTCGGCAAGTACATTGAACTGCCGGATGCTTATAAATCAGTGATCGAAGCACTGAAACACGGTGGGCTGAAGAATCGTGTCAGCGTCAACATCAAACTGATCGATTCACAAGATGTTGAAACGCGCGGCGTTGAAATCCTTAAAGGTCTGGACGCAATCCTCGTACCTGGCGGTTTCGGCTATCGTGGCGTAGAAGGCATGATTACGACCGCGCGTTTTGCGCGTGAGAACAATATTCCTTATCTGGGCATTTGCCTGGGTATGCAGGTGGCGTTAATTGATTACGCTCGCCATGTTGCCAACATGGAGAACGCCAACTCTACGGAATTTGTGCCAGACTGTAAGTACCCGGTTGTGGCGCTGATTACCGAGTGGCGCGATGAAAACGGCAACGTTGAAGTTCGTAGCGAGAAGAGCGATCTCGGCGGTACCATGCGTCTCGGCGCACAGCAGTGCCAGTTGGTTGACGATAGCCTGGTTCGCCAGCTGTACAATGCGCCGACAATTGTTGAGCGTCATCGTCACCGTTACGAAGTCAACAACATGCTGTTGAAACAGATTGAAGATGCAGGTCTGCGCGTTGCGGGCCGTTCCGGGGATGATCAGTTGGTCGAGATCATCGAAGTTCCGAATCACCCGTGGTTCGTGGCTTGCCAGTTCCATCCGGAGTTTACTTCTACTCCACGTGATGGTCACCCGCTGTTTGCAGGCTTTGTGAAAGCCGCCAGCGAGTTCCAGAAACGTCAGGCGAAGTAA',\n",
       " 'optimized_sequence': '',\n",
       " 'synthesized_sequence': '',\n",
       " 'status': 'Unapproved',\n",
       " 'author': [{'name': 'Keoni Gandall',\n",
       "   'email': 'koeng101@gmail.com',\n",
       "   'affiliation': 'BioBricks Foundation',\n",
       "   'orcid': 'https://orcid.org/0000-0003-3995-6416'}],\n",
       " 'genbank': {'locus_tag': 'b2780',\n",
       "  'gene': 'pyrG',\n",
       "  'gene_synonyms': '',\n",
       "  'product': 'CTP synthetase',\n",
       "  'note': '',\n",
       "  'Source': 'Escherichia coli str. K-12 substr. MG1655',\n",
       "  'GenBank_acc': 'NC_000913',\n",
       "  'protein_id': 'NP_417260.1',\n",
       "  'EC_number': '6.3.4.2',\n",
       "  'translation': 'MTTNYIFVTGGVVSSLGKGIAAASLAAILEARGLNVTIMKLDPYINVDPGTMSPIQHGEVFVTEDGAETDLDLGHYERFIRTKMSRRNNFTTGRIYSDVLRKERRGDYLGATVQVIPHITNAIKERVLEGGEGHDVVLVEIGGTVGDIESLPFLEAIRQMAVEIGREHTLFMHLTLVPYMAASGEVKTKPTQHSVKELLSIGIQPDILICRSDRAVPANERAKIALFCNVPEKAVISLKDVDSIYKIPGLLKSQGLDDYICKRFSLNCPEANLSEWEQVIFEEANPVSEVTIGMVGKYIELPDAYKSVIEALKHGGLKNRVSVNIKLIDSQDVETRGVEILKGLDAILVPGGFGYRGVEGMITTARFARENNIPYLGICLGMQVALIDYARHVANMENANSTEFVPDCKYPVVALITEWRDENGNVEVRSEKSDLGGTMRLGAQQCQLVDDSLVRQLYNAPTIVERHRHRYEVNNMLLKQIEDAGLRVAGRSGDDQLVEIIEVPNHPWFVACQFHPEFTSTPRDGHPLFAGFVKAASEFQKRQAK',\n",
       "  'references': ['db_xref=\"ASAP:ABE-0009112\"',\n",
       "   'db_xref=\"UniProtKB/Swiss-Prot:P0A7E5\"',\n",
       "   'db_xref=\"EcoGene:EG10810\"',\n",
       "   'db_xref=\"GeneID:946116\"']}}"
      ]
     },
     "execution_count": 35,
     "metadata": {},
     "output_type": "execute_result"
    }
   ],
   "source": [
    "for json_file in glob.glob('./../genes/**/*.json'):\n",
    "    with open(json_file) as f:\n",
    "        data = json.load(f)\n",
    "        \n",
    "data"
   ]
  },
  {
   "cell_type": "code",
   "execution_count": null,
   "metadata": {},
   "outputs": [],
   "source": []
  }
 ],
 "metadata": {
  "kernelspec": {
   "display_name": "Python 3",
   "language": "python",
   "name": "python3"
  },
  "language_info": {
   "codemirror_mode": {
    "name": "ipython",
    "version": 3
   },
   "file_extension": ".py",
   "mimetype": "text/x-python",
   "name": "python",
   "nbconvert_exporter": "python",
   "pygments_lexer": "ipython3",
   "version": "3.7.2"
  }
 },
 "nbformat": 4,
 "nbformat_minor": 2
}
