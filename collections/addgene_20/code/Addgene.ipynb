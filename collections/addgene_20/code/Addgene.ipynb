{
 "cells": [
  {
   "cell_type": "code",
   "execution_count": 1,
   "metadata": {},
   "outputs": [],
   "source": [
    "import glob\n",
    "import pandas as pd\n",
    "from shutil import copytree\n",
    "import json\n",
    "import pickle\n",
    "import numpy as np"
   ]
  },
  {
   "cell_type": "code",
   "execution_count": 2,
   "metadata": {},
   "outputs": [],
   "source": [
    "gene_ids = []\n",
    "sequences = []\n",
    "for json_file in glob.glob('./../genes/**/*.json'):\n",
    "    with open(json_file) as f:\n",
    "        data = json.load(f)\n",
    "    gene_ids.append(data['gene_id'])\n",
    "    sequences.append(data['synthesized_sequence'])\n",
    "    \n",
    "d = {\n",
    "    \"gene_id\": gene_ids,\n",
    "    \"sequence\": sequences\n",
    "}\n",
    "to_twist = pd.DataFrame.from_dict(d)\n",
    "to_twist.to_csv('./to_twist.csv')"
   ]
  },
  {
   "cell_type": "code",
   "execution_count": null,
   "metadata": {},
   "outputs": [],
   "source": []
  }
 ],
 "metadata": {
  "kernelspec": {
   "display_name": "Python 3",
   "language": "python",
   "name": "python3"
  },
  "language_info": {
   "codemirror_mode": {
    "name": "ipython",
    "version": 3
   },
   "file_extension": ".py",
   "mimetype": "text/x-python",
   "name": "python",
   "nbconvert_exporter": "python",
   "pygments_lexer": "ipython3",
   "version": "3.7.2"
  }
 },
 "nbformat": 4,
 "nbformat_minor": 2
}
